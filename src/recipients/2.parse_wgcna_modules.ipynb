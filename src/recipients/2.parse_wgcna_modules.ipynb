{
 "cells": [
  {
   "cell_type": "code",
   "execution_count": 1,
   "id": "aaac5acb",
   "metadata": {},
   "outputs": [],
   "source": [
    "import mygene\n",
    "import glob\n",
    "import os\n",
    "os.chdir(\"../../data/recipients/wgcna/\")\n",
    "def ensembl2gene(gene_list):\n",
    "    ens=list()\n",
    "    for i in gene_list:\n",
    "        ens.append(i.split(\".\")[0])\n",
    "    mg = mygene.MyGeneInfo()\n",
    "    ginfo = mg.querymany(ens, returnall=True)\n",
    "    genes=list()\n",
    "    for i in ginfo['out']:\n",
    "        if \"symbol\"in i.keys():\n",
    "            genes.append(i[\"symbol\"])\n",
    "    return genes\n",
    "    "
   ]
  },
  {
   "cell_type": "code",
   "execution_count": null,
   "id": "6f3eadb4",
   "metadata": {
    "scrolled": false
   },
   "outputs": [],
   "source": [
    "def convertModuleEnsembl2gene(path,outpath):\n",
    "    gene2module=dict()\n",
    "    ensemble2module=dict()\n",
    "    for file in glob.glob(path):\n",
    "        module_name = os.path.basename(file).replace(\".txt\",\"\")\n",
    "        genes=list()\n",
    "        with open(file,\"r\") as f:\n",
    "            for line in f:\n",
    "                genes.append(line.strip())\n",
    "                ensemble2module[line.strip()]=module_name\n",
    "        genes=ensembl2gene(genes)\n",
    "        with open(outpath+\"%s.new.txt\" % module_name,\"w\") as fw:\n",
    "            for gene in genes:\n",
    "                fw.write(gene+\"\\n\")\n",
    "                gene2module[gene]=module_name"
   ]
  },
  {
   "cell_type": "code",
   "execution_count": null,
   "id": "211c7f14",
   "metadata": {},
   "outputs": [],
   "source": [
    "path = \"modules-rnaseq-fx/original/*.txt\"\n",
    "outpath=\"modules-rnaseq-fx/gene_name/\"\n",
    "convertModuleEnsembl2gene(path,outpath)\n",
    "\n",
    "path = \"modules-rnaseq-hx/original/*.txt\"\n",
    "outpath=\"modules-rnaseq-hx/gene_name/\"\n",
    "convertModuleEnsembl2gene(path,outpath)"
   ]
  }
 ],
 "metadata": {
  "kernelspec": {
   "display_name": "Python 3 (ipykernel)",
   "language": "python",
   "name": "python3"
  },
  "language_info": {
   "codemirror_mode": {
    "name": "ipython",
    "version": 3
   },
   "file_extension": ".py",
   "mimetype": "text/x-python",
   "name": "python",
   "nbconvert_exporter": "python",
   "pygments_lexer": "ipython3",
   "version": "3.10.9"
  }
 },
 "nbformat": 4,
 "nbformat_minor": 5
}
