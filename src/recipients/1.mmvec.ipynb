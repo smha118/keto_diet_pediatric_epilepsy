{
 "cells": [
  {
   "cell_type": "code",
   "execution_count": 1,
   "metadata": {},
   "outputs": [
    {
     "name": "stderr",
     "output_type": "stream",
     "text": [
      "<frozen importlib._bootstrap>:219: RuntimeWarning: scipy._lib.messagestream.MessageStream size changed, may indicate binary incompatibility. Expected 56 from C header, got 64 from PyObject\n"
     ]
    }
   ],
   "source": [
    "import pandas as pd\n",
    "import numpy as np\n",
    "from skbio.stats.composition import clr_inv as softmax\n",
    "import warnings\n",
    "import os\n",
    "os.chdir(\"../../data/recipients/\")\n",
    "warnings.filterwarnings(\"ignore\")"
   ]
  },
  {
   "cell_type": "markdown",
   "metadata": {},
   "source": [
    "# Recipient"
   ]
  },
  {
   "cell_type": "code",
   "execution_count": 2,
   "metadata": {
    "scrolled": true
   },
   "outputs": [],
   "source": [
    "ranks_metafeces = pd.read_table('mmvec/metagenome_feces/latent_dim_3_input_prior_1.00_output_prior_1.00_beta1_0.90_beta2_0.95_ranks.txt')\n",
    "ranks_metafeces = pd.read_table('mmvec/metagenome_feces/latent_dim_3_input_prior_1.00_output_prior_1.00_beta1_0.90_beta2_0.95_ranks.txt')\n",
    "ranks_metaserum = pd.read_table('mmvec/metagenome_serum/latent_dim_3_input_prior_1.00_output_prior_1.00_beta1_0.90_beta2_0.95_ranks.txt')\n",
    "ranks_metafx = pd.read_table('mmvec/metagenome_fx_prepost/latent_dim_3_input_prior_1.00_output_prior_1.00_beta1_0.90_beta2_0.95_ranks.txt')\n",
    "ranks_metahx = pd.read_table('mmvec/metagenome_hx_prepost/latent_dim_3_input_prior_1.00_output_prior_1.00_beta1_0.90_beta2_0.95_ranks.txt')\n",
    "ranks_fecesserum=pd.read_table('mmvec/feces_serum/latent_dim_3_input_prior_1.00_output_prior_1.00_beta1_0.90_beta2_0.95_ranks.txt')\n",
    "ranks_fecesfx = pd.read_table('mmvec/feces_fx_prepost/latent_dim_3_input_prior_1.00_output_prior_1.00_beta1_0.90_beta2_0.95_ranks.txt')\n",
    "ranks_feceshx = pd.read_table('mmvec/feces_hx_prepost/latent_dim_3_input_prior_1.00_output_prior_1.00_beta1_0.90_beta2_0.95_ranks.txt')\n",
    "ranks_serumfx = pd.read_table('mmvec/serum_fx_prepost/latent_dim_3_input_prior_1.00_output_prior_1.00_beta1_0.90_beta2_0.95_ranks.txt')\n",
    "ranks_serumhx = pd.read_table('mmvec/serum_hx_prepost/latent_dim_3_input_prior_1.00_output_prior_1.00_beta1_0.90_beta2_0.95_ranks.txt')\n",
    "#ranks_fxhx=pd.read_table('fx_hx_prepost/latent_dim_3_input_prior_1.00_output_prior_1.00_beta1_0.90_beta2_0.95_ranks.txt')"
   ]
  },
  {
   "cell_type": "code",
   "execution_count": 3,
   "metadata": {},
   "outputs": [],
   "source": [
    "metagenome=pd.read_table(\"metagenome.tsv\",sep=\"\\t\",index_col=0)"
   ]
  },
  {
   "cell_type": "code",
   "execution_count": null,
   "metadata": {},
   "outputs": [],
   "source": [
    "df_metafeces = pd.melt(ranks_metafeces, id_vars='featureid', value_vars=ranks_metafeces.columns,ignore_index=True)\n",
    "df_metaserum = pd.melt(ranks_metaserum, id_vars='featureid', value_vars=ranks_metaserum.columns,ignore_index=True)\n",
    "df_metafx = pd.melt(ranks_metafx, id_vars='featureid', value_vars=ranks_metafx.columns,ignore_index=True)\n",
    "df_metahx = pd.melt(ranks_metahx, id_vars='featureid', value_vars=ranks_metahx.columns,ignore_index=True)\n",
    "df_fecesserum = pd.melt(ranks_fecesserum, id_vars='featureid', value_vars=ranks_fecesserum.columns,ignore_index=True)\n",
    "df_fecesfx = pd.melt(ranks_fecesfx, id_vars='featureid', value_vars=ranks_fecesfx.columns,ignore_index=True)\n",
    "df_feceshx = pd.melt(ranks_feceshx, id_vars='featureid', value_vars=ranks_feceshx.columns,ignore_index=True)\n",
    "df_serumfx = pd.melt(ranks_serumfx, id_vars='featureid', value_vars=ranks_serumfx.columns,ignore_index=True)\n",
    "df_serumhx = pd.melt(ranks_serumhx, id_vars='featureid', value_vars=ranks_serumhx.columns,ignore_index=True)\n",
    "#df_fxhx = pd.melt(ranks_fxhx, id_vars='featureid', value_vars=ranks_fxhx.columns,ignore_index=True)"
   ]
  },
  {
   "cell_type": "code",
   "execution_count": null,
   "metadata": {
    "scrolled": true
   },
   "outputs": [],
   "source": [
    "df_metafeces.columns=[\"HEAD\",\"TAIL\",\"WEIGHT\"]\n",
    "df_metaserum.columns=[\"HEAD\",\"TAIL\",\"WEIGHT\"]\n",
    "df_metafx.columns=[\"HEAD\",\"TAIL\",\"WEIGHT\"]\n",
    "df_metahx.columns=[\"HEAD\",\"TAIL\",\"WEIGHT\"]\n",
    "df_fecesserum.columns=[\"HEAD\",\"TAIL\",\"WEIGHT\"]\n",
    "df_fecesfx.columns=[\"HEAD\",\"TAIL\",\"WEIGHT\"]\n",
    "df_feceshx.columns=[\"HEAD\",\"TAIL\",\"WEIGHT\"]\n",
    "df_serumfx.columns=[\"HEAD\",\"TAIL\",\"WEIGHT\"]\n",
    "df_serumhx.columns=[\"HEAD\",\"TAIL\",\"WEIGHT\"]\n",
    "#df_fxhx.columns=[\"HEAD\",\"TAIL\",\"WEIGHT\"]"
   ]
  },
  {
   "cell_type": "code",
   "execution_count": 6,
   "metadata": {
    "scrolled": false
   },
   "outputs": [],
   "source": [
    "k=300\n",
    "df_metafeces = df_metafeces.sort_values('WEIGHT', ascending=False).iloc[:k]\n",
    "df_metaserum = df_metaserum.sort_values('WEIGHT', ascending=False).iloc[:k]\n",
    "df_metafx = df_metafx.sort_values('WEIGHT', ascending=False).iloc[:k]\n",
    "df_metahx = df_metahx.sort_values('WEIGHT', ascending=False).iloc[:k]\n",
    "df_fecesserum = df_fecesserum.sort_values('WEIGHT', ascending=False).iloc[:k]\n",
    "df_fecesfx = df_fecesfx.sort_values('WEIGHT', ascending=False).iloc[:k]\n",
    "df_feceshx = df_feceshx.sort_values('WEIGHT', ascending=False).iloc[:k]\n",
    "df_serumfx = df_serumfx.sort_values('WEIGHT', ascending=False).iloc[:k]\n",
    "df_serumhx = df_serumhx.sort_values('WEIGHT', ascending=False).iloc[:k]"
   ]
  },
  {
   "cell_type": "code",
   "execution_count": 7,
   "metadata": {},
   "outputs": [],
   "source": [
    "import mygene\n",
    "def ensembl2gene(gene_list):\n",
    "    ens=list()\n",
    "    for i in gene_list:\n",
    "        ens.append(i.split(\".\")[0])\n",
    "    mg = mygene.MyGeneInfo()\n",
    "    #ginfo = mg.querymany(ens, scopes='ensembl.transcript',returnall=True)\n",
    "    ginfo = mg.querymany(ens, returnall=True)\n",
    "    genes=list()\n",
    "    for i in ginfo['out']:\n",
    "        try:\n",
    "            genes.append(i[\"symbol\"])\n",
    "        except KeyError:\n",
    "            genes.append(i[\"query\"])\n",
    "    return genes\n",
    "\n",
    "def trimMetagenome(meta_list):\n",
    "    new_meta=list()\n",
    "    for m in meta_list:\n",
    "        new_meta.append(m.split(\":\")[0])\n",
    "    return new_meta"
   ]
  },
  {
   "cell_type": "code",
   "execution_count": 8,
   "metadata": {
    "scrolled": true
   },
   "outputs": [
    {
     "name": "stdout",
     "output_type": "stream",
     "text": [
      "querying 1-300...done.\n",
      "Finished.\n",
      "62 input query terms found dup hits:\n",
      "\t[('ENSMUSG00000081170', 5), ('ENSMUSG00000022560', 4), ('ENSMUSG00000051048', 11), ('ENSMUSG00000049\n",
      "3 input query terms found no hit:\n",
      "\t['ENSMUSG00000102426', 'ENSMUSG00000104389', 'ENSMUSG00000096841']\n",
      "querying 1-300...done.\n",
      "Finished.\n",
      "52 input query terms found dup hits:\n",
      "\t[('ENSMUSG00000042682', 16), ('ENSMUSG00000005683', 11), ('ENSMUSG00000029246', 8), ('ENSMUSG0000008\n",
      "1 input query terms found no hit:\n",
      "\t['ENSMUSG00000107231']\n",
      "querying 1-300...done.\n",
      "Finished.\n",
      "38 input query terms found dup hits:\n",
      "\t[('ENSMUSG00000101795', 23), ('ENSMUSG00000062006', 15), ('ENSMUSG00000045382', 16), ('ENSMUSG000001\n",
      "querying 1-300...done.\n",
      "Finished.\n",
      "50 input query terms found dup hits:\n",
      "\t[('ENSMUSG00000055134', 12), ('ENSMUSG00000005802', 8), ('ENSMUSG00000020806', 19), ('ENSMUSG0000004\n",
      "querying 1-300...done.\n",
      "Finished.\n",
      "43 input query terms found dup hits:\n",
      "\t[('ENSMUSG00000015656', 14), ('ENSMUSG00000034912', 37), ('ENSMUSG00000106472', 21), ('ENSMUSG000000\n",
      "querying 1-300...done.\n",
      "Finished.\n",
      "37 input query terms found dup hits:\n",
      "\t[('ENSMUSG00000029384', 17), ('ENSMUSG00000025189', 13), ('ENSMUSG00000075033', 12), ('ENSMUSG000000\n",
      "1 input query terms found no hit:\n",
      "\t['ENSMUSG00000097340']\n"
     ]
    }
   ],
   "source": [
    "#Change ensembleid to gene name ensemble\n",
    "df_metafx['HEAD']=ensembl2gene(df_metafx['HEAD'])\n",
    "df_metahx['HEAD']=ensembl2gene(df_metahx['HEAD'])\n",
    "df_fecesfx['HEAD']=ensembl2gene(df_fecesfx['HEAD'])\n",
    "df_feceshx['HEAD']=ensembl2gene(df_feceshx['HEAD'])\n",
    "df_serumfx['HEAD']=ensembl2gene(df_serumfx['HEAD'])\n",
    "df_serumhx['HEAD']=ensembl2gene(df_serumhx['HEAD'])"
   ]
  },
  {
   "cell_type": "code",
   "execution_count": 9,
   "metadata": {},
   "outputs": [],
   "source": [
    "def createnode(df,color=[\"feces\",\"metagenome\"]):\n",
    "    color2shape={\n",
    "            \"metagenome\":\"ellipse\",\n",
    "            \"feces\":\"ellipse\",\n",
    "            \"serum\":\"ellipse\",\n",
    "                \"hx\":\"ellipse\",\n",
    "                \"fx\":\"ellipse\",\n",
    "    }\n",
    "    node=pd.DataFrame(columns=['NODE','LABEL','COLOR','SIZE','SHAPE','DESC'])\n",
    "    for i in df[\"HEAD\"]:\n",
    "        node=node.append({\n",
    "            'NODE':i,\n",
    "            'LABEL':i,\n",
    "            'COLOR':color[0],\n",
    "            'SIZE':'20',\n",
    "            'SHAPE':color2shape[color[0]], \n",
    "            'DESC': ''\n",
    "        },ignore_index=True)\n",
    "\n",
    "    for j in df[\"TAIL\"]:\n",
    "        split=j.split(\":\")\n",
    "        if(len(split)>1 and color[1]==\"metagenome\"):\n",
    "            node=node.append({\n",
    "                'NODE':j.split(\":\")[0],\n",
    "                'LABEL':j.split(\":\")[0],\n",
    "                'COLOR':color[1],\n",
    "                'SIZE':'20',\n",
    "                'SHAPE':color2shape[color[1]],\n",
    "                #'DESC': j\n",
    "                'DESC': j.split(\":\")[1]\n",
    "            },ignore_index=True)\n",
    "        else:\n",
    "            node=node.append({\n",
    "                'NODE':j,\n",
    "                'LABEL':j,\n",
    "                'COLOR':color[1],\n",
    "                'SIZE':'20',\n",
    "                'SHAPE':color2shape[color[1]],\n",
    "                'DESC':''\n",
    "            },ignore_index=True)\n",
    "    \n",
    "    return node"
   ]
  },
  {
   "cell_type": "code",
   "execution_count": 10,
   "metadata": {},
   "outputs": [],
   "source": [
    "node_metafeces=createnode(df_metafeces,color=[\"feces\",\"metagenome\"])\n",
    "node_metaserum=createnode(df_metaserum,color=[\"serum\",\"metagenome\"])\n",
    "node_metafx=createnode(df_metafx,color=[\"fx\",\"metagenome\"])\n",
    "node_metahx=createnode(df_metahx,color=[\"hx\",\"metagenome\"])\n",
    "node_fecesserum=createnode(df_fecesserum,color=[\"serum\",\"feces\"])\n",
    "node_fecesfx=createnode(df_fecesfx,color=[\"fx\",\"feces\"])\n",
    "node_feceshx=createnode(df_feceshx,color=[\"hx\",\"feces\"])\n",
    "node_serumfx=createnode(df_serumfx,color=[\"fx\",\"serum\"])\n",
    "node_serumhx=createnode(df_serumhx,color=[\"hx\",\"serum\"])"
   ]
  },
  {
   "cell_type": "code",
   "execution_count": 11,
   "metadata": {},
   "outputs": [],
   "source": [
    "metagenomefeces_pwy=set()\n",
    "metagenomeserum_pwy=set()\n",
    "metagenomefx_pwy=set()\n",
    "metagenomehx_pwy=set()\n",
    "\n",
    "for index, row in node_metafeces[node_metafeces[\"COLOR\"]==\"metagenome\"].iterrows():\n",
    "    metagenomefeces_pwy.add(row[\"NODE\"])\n",
    "for index, row in node_metaserum[node_metaserum[\"COLOR\"]==\"metagenome\"].iterrows():\n",
    "    metagenomeserum_pwy.add(row[\"NODE\"])\n",
    "for index, row in node_metafx[node_metafx[\"COLOR\"]==\"metagenome\"].iterrows():\n",
    "    metagenomefx_pwy.add(row[\"NODE\"])\n",
    "for index, row in node_metahx[node_metahx[\"COLOR\"]==\"metagenome\"].iterrows():\n",
    "    metagenomehx_pwy.add(row[\"NODE\"])"
   ]
  },
  {
   "cell_type": "code",
   "execution_count": 12,
   "metadata": {},
   "outputs": [],
   "source": [
    "df_metafeces_taxa=pd.DataFrame(columns=[\"HEAD\",\"TAIL\",\"WEIGHT\"])\n",
    "node_metafeces_taxa=pd.DataFrame(columns=[\"NODE\",\"LABEL\",\"COLOR\",\"SIZE\",\"SHAPE\",\"DESC\"])\n",
    "\n",
    "df_metaserum_taxa=pd.DataFrame(columns=[\"HEAD\",\"TAIL\",\"WEIGHT\"])\n",
    "node_metaserum_taxa=pd.DataFrame(columns=[\"NODE\",\"LABEL\",\"COLOR\",\"SIZE\",\"SHAPE\",\"DESC\"])\n",
    "\n",
    "df_metafx_taxa=pd.DataFrame(columns=[\"HEAD\",\"TAIL\",\"WEIGHT\"])\n",
    "node_metafx_taxa=pd.DataFrame(columns=[\"NODE\",\"LABEL\",\"COLOR\",\"SIZE\",\"SHAPE\",\"DESC\"])\n",
    "\n",
    "df_metahx_taxa=pd.DataFrame(columns=[\"HEAD\",\"TAIL\",\"WEIGHT\"])\n",
    "node_metahx_taxa=pd.DataFrame(columns=[\"NODE\",\"LABEL\",\"COLOR\",\"SIZE\",\"SHAPE\",\"DESC\"])"
   ]
  },
  {
   "cell_type": "code",
   "execution_count": 13,
   "metadata": {},
   "outputs": [],
   "source": [
    "#feces\n",
    "for m in metagenome.index:\n",
    "    if \"UNINTEGRATED\" not in m and \"unclassified\" not in m:\n",
    "        pwy=m.split(\":\")[0]\n",
    "        if pwy in metagenomefeces_pwy:\n",
    "            splitpipe=m.split(\"|\")\n",
    "            if len(splitpipe)==2:\n",
    "                species=splitpipe[1].split(\".\")[1]\n",
    "                row_edge={\"HEAD\":pwy,\"TAIL\":species,\"WEIGHT\":1}\n",
    "                row_node={\"NODE\":species,\"LABEL\":species,\"COLOR\":\"taxa\",\"SIZE\":20,\"SHAPE\":\"ellipse\",\"DESC\":\"\"}\n",
    "                df_metafeces_taxa=df_metafeces_taxa.append(row_edge,ignore_index=True)\n",
    "                node_metafeces_taxa=node_metafeces_taxa.append(row_node,ignore_index=True)\n",
    "#serum                \n",
    "for m in metagenome.index:\n",
    "    if \"UNINTEGRATED\" not in m and \"unclassified\" not in m:\n",
    "        pwy=m.split(\":\")[0]\n",
    "        if pwy in metagenomeserum_pwy:\n",
    "            splitpipe=m.split(\"|\")\n",
    "            if len(splitpipe)==2:\n",
    "                species=splitpipe[1].split(\".\")[1]\n",
    "                row_edge={\"HEAD\":pwy,\"TAIL\":species,\"WEIGHT\":1}\n",
    "                row_node={\"NODE\":species,\"LABEL\":species,\"COLOR\":\"taxa\",\"SIZE\":20,\"SHAPE\":\"ellipse\",\"DESC\":\"\"}\n",
    "                df_metaserum_taxa=df_metaserum_taxa.append(row_edge,ignore_index=True)\n",
    "                node_metaserum_taxa=node_metaserum_taxa.append(row_node,ignore_index=True)\n",
    "\n",
    "                \n",
    "#fx\n",
    "for m in metagenome.index:\n",
    "    if \"UNINTEGRATED\" not in m and \"unclassified\" not in m:\n",
    "        pwy=m.split(\":\")[0]\n",
    "        if pwy in metagenomefx_pwy:\n",
    "            splitpipe=m.split(\"|\")\n",
    "            if len(splitpipe)==2:\n",
    "                species=splitpipe[1].split(\".\")[1]\n",
    "                row_edge={\"HEAD\":pwy,\"TAIL\":species,\"WEIGHT\":1}\n",
    "                row_node={\"NODE\":species,\"LABEL\":species,\"COLOR\":\"taxa\",\"SIZE\":20,\"SHAPE\":\"ellipse\",\"DESC\":\"\"}\n",
    "                df_metafx_taxa=df_metafx_taxa.append(row_edge,ignore_index=True)\n",
    "                node_metafx_taxa=node_metafx_taxa.append(row_node,ignore_index=True)\n",
    "                \n",
    "#hx\n",
    "for m in metagenome.index:\n",
    "    if \"UNINTEGRATED\" not in m and \"unclassified\" not in m:\n",
    "        pwy=m.split(\":\")[0]\n",
    "        if pwy in metagenomehx_pwy:\n",
    "            splitpipe=m.split(\"|\")\n",
    "            if len(splitpipe)==2:\n",
    "                species=splitpipe[1].split(\".\")[1]\n",
    "                row_edge={\"HEAD\":pwy,\"TAIL\":species,\"WEIGHT\":1}\n",
    "                row_node={\"NODE\":species,\"LABEL\":species,\"COLOR\":\"taxa\",\"SIZE\":20,\"SHAPE\":\"ellipse\",\"DESC\":\"\"}\n",
    "                df_metahx_taxa=df_metahx_taxa.append(row_edge,ignore_index=True)\n",
    "                node_metahx_taxa=node_metahx_taxa.append(row_node,ignore_index=True)\n"
   ]
  },
  {
   "cell_type": "code",
   "execution_count": 18,
   "metadata": {},
   "outputs": [],
   "source": [
    "df_metafeces[\"TAIL\"]=trimMetagenome(df_metafeces[\"TAIL\"])\n",
    "df_metaserum[\"TAIL\"]=trimMetagenome(df_metaserum[\"TAIL\"])\n",
    "df_metafx[\"TAIL\"]=trimMetagenome(df_metafx[\"TAIL\"])\n",
    "df_metahx[\"TAIL\"]=trimMetagenome(df_metahx[\"TAIL\"])"
   ]
  },
  {
   "cell_type": "code",
   "execution_count": null,
   "metadata": {},
   "outputs": [],
   "source": [
    "edge=pd.concat([df_metafeces,df_metaserum,df_fecesserum,df_metafx,df_metafx_taxa,df_metahx,df_metahx_taxa]).drop_duplicates()\n",
    "node=pd.concat([node_metafeces,node_metaserum,node_fecesserum,node_metafx,node_metafx_taxa,node_metahx,node_metahx_taxa]).drop_duplicates()"
   ]
  },
  {
   "cell_type": "code",
   "execution_count": 19,
   "metadata": {},
   "outputs": [],
   "source": [
    "edge.to_csv(\"mmvec/edge_taxa500.tsv\",sep=\"\\t\",index=False)\n",
    "node.to_csv(\"mmvec/node_taxa500.tsv\",sep=\"\\t\",index=False)"
   ]
  }
 ],
 "metadata": {
  "kernelspec": {
   "display_name": "Python 3 (ipykernel)",
   "language": "python",
   "name": "python3"
  },
  "language_info": {
   "codemirror_mode": {
    "name": "ipython",
    "version": 3
   },
   "file_extension": ".py",
   "mimetype": "text/x-python",
   "name": "python",
   "nbconvert_exporter": "python",
   "pygments_lexer": "ipython3",
   "version": "3.10.9"
  },
  "varInspector": {
   "cols": {
    "lenName": 16,
    "lenType": 16,
    "lenVar": 40
   },
   "kernels_config": {
    "python": {
     "delete_cmd_postfix": "",
     "delete_cmd_prefix": "del ",
     "library": "var_list.py",
     "varRefreshCmd": "print(var_dic_list())"
    },
    "r": {
     "delete_cmd_postfix": ") ",
     "delete_cmd_prefix": "rm(",
     "library": "var_list.r",
     "varRefreshCmd": "cat(var_dic_list()) "
    }
   },
   "types_to_exclude": [
    "module",
    "function",
    "builtin_function_or_method",
    "instance",
    "_Feature"
   ],
   "window_display": false
  }
 },
 "nbformat": 4,
 "nbformat_minor": 4
}
