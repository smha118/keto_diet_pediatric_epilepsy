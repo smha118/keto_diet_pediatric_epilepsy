{
 "cells": [
  {
   "cell_type": "markdown",
   "id": "936240f1-b1d0-4952-8c35-545edf09729a",
   "metadata": {},
   "source": [
    "# Coded in R"
   ]
  },
  {
   "cell_type": "code",
   "execution_count": 1,
   "id": "aaac5acb",
   "metadata": {},
   "outputs": [],
   "source": [
    "library(WGCNA)\n",
    "library(dplyr)\n",
    "setwd(\"../../data/recipients/\")"
   ]
  },
  {
   "cell_type": "code",
   "execution_count": null,
   "id": "4a679c31-a343-497b-a509-df1e8928f82d",
   "metadata": {},
   "outputs": [],
   "source": [
    "getrows<-function(modules,path){\n",
    "    rows<-c()\n",
    "    for(i in modules){\n",
    "        module.file<-paste0(path,i,\".txt\")\n",
    "        module<-read.csv(module.file,header=F,sep=\"\\t\")\n",
    "        rows<-c(rows,module$V1)\n",
    "    }\n",
    "    return(rows)\n",
    "}\n",
    "add_data_type_to_mtx<-function(df,type){\n",
    "    idx=c()\n",
    "    for (i in rownames(df)){\n",
    "        idx=c(idx,paste0(i,\"_\",type))\n",
    "    }\n",
    "    rownames(df)<-idx\n",
    "    return(df)\n",
    "}\n",
    "#wKDA prep\n",
    "getmodulesrows<-function(modules,path,type){\n",
    "    module<-data.frame()\n",
    "    rows<-c()\n",
    "    df <- data.frame(matrix(ncol = 2, nrow = 0))\n",
    "    colnames(df) <- c('MODULE', 'NODE')\n",
    "    for(i in modules){\n",
    "        module.file<-paste0(path,i,\".txt\")\n",
    "        module<-read.csv(module.file,header=F,sep=\"\\t\")\n",
    "        colnames(module)<-c(\"NODE\")\n",
    "        module$MODULE=paste0(i,\"_\",type)\n",
    "        df<-rbind(df,module)\n",
    "    }\n",
    "    \n",
    "    return(df)\n",
    "}"
   ]
  },
  {
   "cell_type": "code",
   "execution_count": null,
   "id": "11ef616b-3242-4bbf-badc-b72c469a3329",
   "metadata": {},
   "outputs": [],
   "source": [
    "selected.modules<-read.csv(\"selected_modules.tsv\",sep=\"\\t\")"
   ]
  },
  {
   "cell_type": "code",
   "execution_count": null,
   "id": "6f3eadb4",
   "metadata": {},
   "outputs": [],
   "source": [
    "meta.modules<-c(\"red\",\"lightcyan\")\n",
    "feces.modules<-c(\"grey60\",\"darkgrey\")\n",
    "serum.modules<-c(\"darkgrey\",\"green\",\"cyan\")\n",
    "hx.modules<-c(\"brown\",\"ivory\",\"lightcyan1\",\"grey60\",\"brown4\",\"salmon\",\"red\",\"lightpink4\")\n",
    "fx.modules<-c(\"mediumpurple2\",\"darkseagreen4\",\"lavenderblush3\",\"mediumpurple3\",\"antiquewhite4\",\"plum\")"
   ]
  },
  {
   "cell_type": "code",
   "execution_count": null,
   "id": "177bc296-4c51-423c-82ac-3d19ee6d81be",
   "metadata": {},
   "outputs": [],
   "source": [
    "data.meta<-read.csv(\"raw_data/metagenome_new.tsv\",sep=\"\\t\",row.names = 1)\n",
    "data.meta<-log(data.meta+1)\n",
    "data.feces<-read.csv(\"raw_data/metab_feces_norm.csv\",row.names=1)\n",
    "data.serum<-read.csv(\"raw_data/metab_serum_norm.csv\",row.names=1)\n",
    "data.fx<-read.csv(\"raw_data/fx_PrePost_RNAseq_counts.log.csv\",row.names=1)\n",
    "data.hx<-read.csv(\"raw_data/hx_PrePost_RNAseq_counts.log.csv\",row.names=1)"
   ]
  },
  {
   "cell_type": "code",
   "execution_count": null,
   "id": "0e7cecad-0c0b-439c-b00e-944fdf157b3f",
   "metadata": {},
   "outputs": [],
   "source": [
    "row.meta<-getrows(meta.modules,\"wgcna/modules/metagenome_modules/\")\n",
    "row.feces<-getrows(feces.modules,\"wgcna/modules/modules-feces/modules/\")\n",
    "row.serum<-getrows(serum.modules,\"wgcna/modules/modules-serum/modules/\")\n",
    "row.fx<-getrows(fx.modules,\"wgcna/modules/modules-fx/original/\")\n",
    "row.hx<-getrows(hx.modules,\"wgcna/modules/modules-hx/original/\")"
   ]
  },
  {
   "cell_type": "code",
   "execution_count": null,
   "id": "bddfdb75-e83d-413b-ac72-1e394c79e4a9",
   "metadata": {},
   "outputs": [],
   "source": [
    "data.meta<-data.meta[row.meta,]\n",
    "data.feces<-data.feces[row.feces,]\n",
    "data.serum<-data.serum[row.serum,]\n",
    "data.fx<-data.fx[row.fx,]\n",
    "data.hx<-data.hx[row.hx,]"
   ]
  },
  {
   "cell_type": "code",
   "execution_count": null,
   "id": "211c7f14",
   "metadata": {},
   "outputs": [],
   "source": [
    "data.feces<-add_data_type_to_mtx(data.feces,\"feces\")\n",
    "data.serum<-add_data_type_to_mtx(data.serum,\"serum\")\n",
    "data.fx<-add_data_type_to_mtx(data.fx,\"fx\")\n",
    "data.hx<-add_data_type_to_mtx(data.hx,\"hx\")"
   ]
  },
  {
   "cell_type": "code",
   "execution_count": null,
   "id": "84e8f403-d145-4f75-9032-9a3336caa9ef",
   "metadata": {},
   "outputs": [],
   "source": [
    "data<-rbind(data.meta,data.feces,data.serum,data.fx,data.hx)\n",
    "data<-t(data)"
   ]
  },
  {
   "cell_type": "code",
   "execution_count": null,
   "id": "95c128f0-c57d-4ed6-9603-f57ea6562f1e",
   "metadata": {},
   "outputs": [],
   "source": [
    "#DEGs and GWAS added manually after this step, and then wKDA\n",
    "mod.meta<-getmodulesrows(meta.modules,\"wgcna/modules/metagenome_modules/\",\"meta\")\n",
    "mod.feces<-getmodulesrows(feces.modules,\"wgcna/modules/modules-feces/modules/\",\"feces\")\n",
    "mod.serum<-getmodulesrows(serum.modules,\"wgcna/modules/modules-serum/modules/\",\"serum\")\n",
    "mod.fx<-getmodulesrows(fx.modules,\"wgcna/modules/modules-fx/original/\",\"fx\")\n",
    "mod.hx<-getmodulesrows(hx.modules,\"wgcna/modules/modules-hx/original/\",\"hx\")\n"
   ]
  },
  {
   "cell_type": "code",
   "execution_count": null,
   "id": "a8b5d909-50a8-49dd-990c-f38eb2e4af05",
   "metadata": {},
   "outputs": [],
   "source": [
    "degs.hx<-read.csv(\"DEGs/Degs_hippo.txt\")\n",
    "degs.fx<-read.csv(\"DEGs/Degs_frontal_cortex.txt\")\n",
    "en2gene.fx<-read.csv(\"gene2ensemble_fx.csv\")\n",
    "en2gene.hx<-read.csv(\"gene2ensemble_hx.csv\")\n",
    "ensmbl.fx<-c()\n",
    "for (i in degs.fx$DEGS){\n",
    "   ensmbl.fx<-c(ensmbl.fx,en2gene.fx[en2gene.fx$gene==grep(paste0(\"^\",i,\"$\"),en2gene.fx$gene,ignore.case=TRUE,value=TRUE),]$ensbl)\n",
    "}\n",
    "degs.fx$DEGS=paste0(ensmbl.fx,\"_fx\")\n",
    "colnames(degs.fx)=c(\"NODE\")\n",
    "degs.fx$MODULE<-\"DEG_fx\"\n",
    "ensmbl.hx<-c()\n",
    "for (i in degs.hx$DEGS){\n",
    "   ensmbl.hx<-c(ensmbl.hx,en2gene.hx[en2gene.hx$gene==grep(paste0(\"^\",i,\"$\"),en2gene.hx$gene,ignore.case=TRUE,value=TRUE),]$ensbl)\n",
    "}\n",
    "degs.hx$DEGS=paste0(ensmbl.hx,\"_fx\")\n",
    "colnames(degs.hx)=c(\"NODE\")\n",
    "degs.hx$MODULE<-\"DEG_hx\""
   ]
  },
  {
   "cell_type": "code",
   "execution_count": null,
   "id": "b7b3e7e0-8390-43d7-a46f-767841ab902a",
   "metadata": {},
   "outputs": [],
   "source": [
    "dam.feces<-read.csv(\"dam_feces.txt\",sep=\"\\t\")\n",
    "dam.feces$MODULE=\"DEG_feces\"\n",
    "dam.feces$NODE<-paste0(dam.feces$NODE,\"_feces\")\n",
    "dam.serum<-read.csv(\"dam_serum.txt\",sep=\"\\t\")\n",
    "dam.serum$MODULE=\"DEG_serum\"\n",
    "dam.serum$NODE=paste0(dam.serum$NODE,\"_serum\")"
   ]
  },
  {
   "cell_type": "code",
   "execution_count": null,
   "id": "b3cac774-09c6-459d-9505-309aa998f00d",
   "metadata": {},
   "outputs": [],
   "source": [
    "gwas.overlap<-read.csv(\"GWAS.overlap.txt\")\n",
    "colnames(gwas.overlap)<-c(\"NODE\")"
   ]
  }
 ],
 "metadata": {
  "kernelspec": {
   "display_name": "Python 3 (ipykernel)",
   "language": "python",
   "name": "python3"
  },
  "language_info": {
   "codemirror_mode": {
    "name": "ipython",
    "version": 3
   },
   "file_extension": ".py",
   "mimetype": "text/x-python",
   "name": "python",
   "nbconvert_exporter": "python",
   "pygments_lexer": "ipython3",
   "version": "3.9.12"
  }
 },
 "nbformat": 4,
 "nbformat_minor": 5
}
