{
 "cells": [
  {
   "cell_type": "markdown",
   "id": "936240f1-b1d0-4952-8c35-545edf09729a",
   "metadata": {},
   "source": [
    "# Coded in R"
   ]
  },
  {
   "cell_type": "code",
   "execution_count": 1,
   "id": "aaac5acb",
   "metadata": {},
   "outputs": [],
   "source": [
    "library(WGCNA)\n",
    "library(dplyr)\n",
    "setwd(\"../../data/donors/wgcna/\")"
   ]
  },
  {
   "cell_type": "code",
   "execution_count": null,
   "id": "4a679c31-a343-497b-a509-df1e8928f82d",
   "metadata": {},
   "outputs": [],
   "source": [
    "getrows<-function(modules,path){\n",
    "    rows<-c()\n",
    "    for(i in modules){\n",
    "        module.file<-paste0(path,i,\".txt\")\n",
    "        module<-read.csv(module.file,header=F,sep=\"\\t\")\n",
    "        rows<-c(rows,module$V1)\n",
    "    }\n",
    "    return(rows)\n",
    "}\n",
    "add_data_type_to_mtx<-function(df,type){\n",
    "    idx=c()\n",
    "    for (i in rownames(df)){\n",
    "        idx=c(idx,paste0(i,\"_\",type))\n",
    "    }\n",
    "    rownames(df)<-idx\n",
    "    return(df)\n",
    "}\n",
    "#wKDA prep\n",
    "getmodulesrows<-function(modules,path,type){\n",
    "    module<-data.frame()\n",
    "    rows<-c()\n",
    "    df <- data.frame(matrix(ncol = 2, nrow = 0))\n",
    "    colnames(df) <- c('MODULE', 'NODE')\n",
    "    for(i in modules){\n",
    "        module.file<-paste0(path,i,\".txt\")\n",
    "        module<-read.csv(module.file,header=F,sep=\"\\t\")\n",
    "        colnames(module)<-c(\"NODE\")\n",
    "        module$MODULE=paste0(i,\"_\",type)\n",
    "        df<-rbind(df,module)\n",
    "    }\n",
    "    \n",
    "    return(df)\n",
    "}\n",
    "\n",
    "generate_nodes_for_mergeomics<-function(modules,path,type,addtype2node=F){\n",
    "    require(dplyr)\n",
    "    nodes <- data.frame(matrix(ncol = 2, nrow = 0))\n",
    "    colnames(nodes)<-c(\"MODULE\",\"NODE\")\n",
    "    #Make nodes file for mergeomics\n",
    "    for (i in modules){\n",
    "        module<-read.csv(paste0(path,i,\".txt\"),sep=\"\\t\",header=F)\n",
    "        colnames(module)<-\"NODE\"\n",
    "        module$MODULE<-i\n",
    "        module<-module%>%relocate(\"MODULE\")\n",
    "        nodes<-rbind(nodes,module)\n",
    "    }\n",
    "    for (i in 1:nrow(nodes)){\n",
    "        nodes[i,1]<-paste0(nodes[i,1],\"_\",type)\n",
    "        if(addtype2node){\n",
    "            nodes[i,2]<-paste0(nodes[i,2],\"_\",type)\n",
    "        }\n",
    "    }\n",
    "    return(nodes)\n",
    "}"
   ]
  },
  {
   "cell_type": "code",
   "execution_count": null,
   "id": "11ef616b-3242-4bbf-badc-b72c469a3329",
   "metadata": {},
   "outputs": [],
   "source": [
    "selected.modules<-read.csv(\"selected_modules.tsv\",sep=\"\\t\")"
   ]
  },
  {
   "cell_type": "code",
   "execution_count": null,
   "id": "6f3eadb4",
   "metadata": {},
   "outputs": [],
   "source": [
    "meta.modules<-selected.modules$metagenome\n",
    "feces.modules<-selected.modules$feces"
   ]
  },
  {
   "cell_type": "code",
   "execution_count": null,
   "id": "177bc296-4c51-423c-82ac-3d19ee6d81be",
   "metadata": {},
   "outputs": [],
   "source": [
    "data.meta<-read.csv(\"../raw_data/metagenome_new.txt\",sep=\"\\t\",row.names = 1)\n",
    "data.meta<-log(data.meta+1)\n",
    "data.feces<-read.csv(\"../raw_data/metabolomics.txt\",sep=\"\\t\",row.names=1)"
   ]
  },
  {
   "cell_type": "code",
   "execution_count": null,
   "id": "0e7cecad-0c0b-439c-b00e-944fdf157b3f",
   "metadata": {},
   "outputs": [],
   "source": [
    "row.meta<-getrows(meta.modules,\"modules/modules_metagenome/\")\n",
    "row.feces<-getrows(feces.modules,\"modules/modules_metabolomics/modules/\")"
   ]
  },
  {
   "cell_type": "code",
   "execution_count": null,
   "id": "bddfdb75-e83d-413b-ac72-1e394c79e4a9",
   "metadata": {},
   "outputs": [],
   "source": [
    "data.meta<-data.meta[row.meta,]\n",
    "data.feces<-data.feces[row.feces,]\n",
    "data.meta<-add_data_type_to_mtx(data.meta,\"meta\")\n",
    "data.feces<-add_data_type_to_mtx(data.feces,\"feces\")\n",
    "data<-rbind(data.meta,data.feces)\n",
    "write.table(data,file=\"combined.data.txt\",sep=\"\\t\",quote=F)"
   ]
  },
  {
   "cell_type": "code",
   "execution_count": null,
   "id": "84e8f403-d145-4f75-9032-9a3336caa9ef",
   "metadata": {},
   "outputs": [],
   "source": [
    "#wKDA prep\n",
    "getmodulesrows<-function(modules,path,type){\n",
    "    module<-data.frame()\n",
    "    rows<-c()\n",
    "    df <- data.frame(matrix(ncol = 2, nrow = 0))\n",
    "    colnames(df) <- c('MODULE', 'NODE')\n",
    "    for(i in modules){\n",
    "        module.file<-paste0(path,i,\".txt\")\n",
    "        module<-read.csv(module.file,header=F,sep=\"\\t\")\n",
    "        colnames(module)<-c(\"NODE\")\n",
    "        module$MODULE=paste0(i,\"_\",type)\n",
    "        df<-rbind(df,module)\n",
    "    }\n",
    "    \n",
    "    return(df)\n",
    "}"
   ]
  },
  {
   "cell_type": "code",
   "execution_count": null,
   "id": "95c128f0-c57d-4ed6-9603-f57ea6562f1e",
   "metadata": {},
   "outputs": [],
   "source": [
    "#DEGs and GWAS added manually after this step, and then wKDA\n",
    "mod.meta<-getmodulesrows(meta.modules,\"wgcna/modules/metagenome_modules/\",\"meta\")\n",
    "mod.feces<-getmodulesrows(feces.modules,\"wgcna/modules/modules-feces/modules/\",\"feces\")\n",
    "mod.serum<-getmodulesrows(serum.modules,\"wgcna/modules/modules-serum/modules/\",\"serum\")\n",
    "mod.fx<-getmodulesrows(fx.modules,\"wgcna/modules/modules-fx/original/\",\"fx\")\n",
    "mod.hx<-getmodulesrows(hx.modules,\"wgcna/modules/modules-hx/original/\",\"hx\")\n"
   ]
  },
  {
   "cell_type": "code",
   "execution_count": null,
   "id": "a8b5d909-50a8-49dd-990c-f38eb2e4af05",
   "metadata": {},
   "outputs": [],
   "source": [
    "degs.hx<-read.csv(\"DEGs/Degs_hippo.txt\")\n",
    "degs.fx<-read.csv(\"DEGs/Degs_frontal_cortex.txt\")\n",
    "en2gene.fx<-read.csv(\"gene2ensemble_fx.csv\")\n",
    "en2gene.hx<-read.csv(\"gene2ensemble_hx.csv\")\n",
    "ensmbl.fx<-c()\n",
    "for (i in degs.fx$DEGS){\n",
    "   ensmbl.fx<-c(ensmbl.fx,en2gene.fx[en2gene.fx$gene==grep(paste0(\"^\",i,\"$\"),en2gene.fx$gene,ignore.case=TRUE,value=TRUE),]$ensbl)\n",
    "}\n",
    "degs.fx$DEGS=paste0(ensmbl.fx,\"_fx\")\n",
    "colnames(degs.fx)=c(\"NODE\")\n",
    "degs.fx$MODULE<-\"DEG_fx\"\n",
    "ensmbl.hx<-c()\n",
    "for (i in degs.hx$DEGS){\n",
    "   ensmbl.hx<-c(ensmbl.hx,en2gene.hx[en2gene.hx$gene==grep(paste0(\"^\",i,\"$\"),en2gene.hx$gene,ignore.case=TRUE,value=TRUE),]$ensbl)\n",
    "}\n",
    "degs.hx$DEGS=paste0(ensmbl.hx,\"_fx\")\n",
    "colnames(degs.hx)=c(\"NODE\")\n",
    "degs.hx$MODULE<-\"DEG_hx\""
   ]
  },
  {
   "cell_type": "code",
   "execution_count": null,
   "id": "b7b3e7e0-8390-43d7-a46f-767841ab902a",
   "metadata": {},
   "outputs": [],
   "source": [
    "dam.feces<-read.csv(\"dam_feces.txt\",sep=\"\\t\")\n",
    "dam.feces$MODULE=\"DEG_feces\"\n",
    "dam.feces$NODE<-paste0(dam.feces$NODE,\"_feces\")\n",
    "dam.serum<-read.csv(\"dam_serum.txt\",sep=\"\\t\")\n",
    "dam.serum$MODULE=\"DEG_serum\"\n",
    "dam.serum$NODE=paste0(dam.serum$NODE,\"_serum\")"
   ]
  },
  {
   "cell_type": "code",
   "execution_count": null,
   "id": "b3cac774-09c6-459d-9505-309aa998f00d",
   "metadata": {},
   "outputs": [],
   "source": [
    "gwas.overlap<-read.csv(\"GWAS.overlap.txt\")\n",
    "colnames(gwas.overlap)<-c(\"NODE\")\n",
    "gwas.overlap$NODE<-paste0(gwas.overlap$NODE,\"_hx\")\n",
    "gwas.overlap$MODULE<-\"GWAS_hx\""
   ]
  },
  {
   "cell_type": "code",
   "execution_count": null,
   "id": "8a578c1f-91af-484a-92cf-d1c0e71caa0b",
   "metadata": {},
   "outputs": [],
   "source": [
    "mod.fx$NODE<-paste0(mod.fx$NODE,\"_fx\")\n",
    "mod.hx$NODE<-paste0(mod.hx$NODE,\"_hx\")\n",
    "mod.feces$NODE<-paste0(mod.feces$NODE,\"_feces\")\n",
    "mod.serum$NODE<-paste0(mod.serum$NODE,\"_serum\")"
   ]
  },
  {
   "cell_type": "code",
   "execution_count": null,
   "id": "01818f6f-5ff5-4a27-893c-b2ff3305893a",
   "metadata": {},
   "outputs": [],
   "source": [
    "mod<-rbind(mod.meta,mod.feces,mod.serum,mod.fx,mod.hx,dam.feces,dam.serum,degs.fx,degs.hx,gwas.overlap)\n",
    "write.table(mod,file=\"NODES4wKDA.tsv\",sep=\"\\t\",quote=F,row.names = F)"
   ]
  }
 ],
 "metadata": {
  "kernelspec": {
   "display_name": "Python 3 (ipykernel)",
   "language": "python",
   "name": "python3"
  },
  "language_info": {
   "codemirror_mode": {
    "name": "ipython",
    "version": 3
   },
   "file_extension": ".py",
   "mimetype": "text/x-python",
   "name": "python",
   "nbconvert_exporter": "python",
   "pygments_lexer": "ipython3",
   "version": "3.9.12"
  }
 },
 "nbformat": 4,
 "nbformat_minor": 5
}
