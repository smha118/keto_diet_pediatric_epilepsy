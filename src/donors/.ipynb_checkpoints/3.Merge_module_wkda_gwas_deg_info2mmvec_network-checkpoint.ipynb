{
 "cells": [
  {
   "cell_type": "code",
   "execution_count": 9,
   "id": "e91b3f51",
   "metadata": {},
   "outputs": [],
   "source": [
    "import os\n",
    "import pandas as pd\n",
    "import mygene\n",
    "import statistics\n",
    "import glob\n",
    "import warnings\n",
    "warnings.filterwarnings(\"ignore\")\n",
    "os.chdir(\"../../data/donors/\")"
   ]
  },
  {
   "cell_type": "code",
   "execution_count": 10,
   "id": "5b4eb23d",
   "metadata": {
    "scrolled": true
   },
   "outputs": [],
   "source": [
    "#edges=pd.read_csv(\"aXiFB6fEtm.wKDA_cytoscape_edges.txt\",sep=\"\\t\")\n",
    "edges=pd.read_csv(\"mmvec.edge_new.txt\",sep=\"\\t\")\n",
    "nodes=pd.read_csv(\"mergeomics_wKDA/O8pC9mnbnW.wKDA_cytoscape_nodes.txt\",sep=\"\\t\")\n",
    "kds=pd.read_csv(\"mergeomics_wKDA/O8pC9mnbnW.wKDA_kd_full_results.txt\",sep=\"\\t\")\n",
    "node2module=pd.read_csv(\"wgcna/Node4wKDA.txt\",sep=\"\\t\")"
   ]
  },
  {
   "cell_type": "code",
   "execution_count": null,
   "id": "86dbafcd-8153-45c9-b101-1f9d44859cf3",
   "metadata": {},
   "outputs": [],
   "source": [
    "color2hex={\"green\":\"#00FF00\",\"grey\":\"#808080\",\"turquoise\":\"#30D5C8\",\n",
    "          \"blue\":\"#007bff\",\"yellow\":\"#FFFF00\",\"brown\":\"#964B00\",\"darkgreen\":\"#013220\",\"violet\":\"#8F00FF\",\n",
    "          \"pink\":\"#FFC0CB\",\"midnightblue\":\"#191970\",\"orange\":\"#FFA500\",\"black\":\"#000000\",\"saddlebrown\":\"#8b4513\",\n",
    "          \"paleturquoise\":\"#afeeee\",\"lightcyan\":\"#e0ffff\",\"yellowgreen\":\"#9ACD32\",\"salmon\":\"#FA8072\",\"white\":\"#FFFFFF\",\n",
    "          \"skyblue\":\"#87CEEB\",\"greenyellow\":\"#adff2f\",\"magenta\":\"#FF00FF\",\"darkmagenta\":\"#8b008b\",\"tan\":\"#D2B48C\",\n",
    "          \"sienna3\":\"#cd6839\",\"grey60\":\"#999999\",\"darkorange\":\"#ff8c00\",\"lightyellow\":\"#ffffe0\",\"darkturquoise\":\"#00ced1\",\n",
    "          \"lightgreen\":\"#90ee90\",\"red\":\"#ff0000\",\"purple\":\"#a020f0\",\"royalblue\":\"#4169e1\",\"steelblue\":\"#4682b4\",\n",
    "          \"darkgrey\":\"#a9a9a9\",\"gray\":\"#808080\",\"skyblue3\":\"#6ca6cd\",\"darkred\":\"#8b0000\",\"darkolivegreen\":\"#556b2f\",\n",
    "          \"paleturquoise\":\"#afeeee\",\"cyan\":\"#00ffff\",\"mediumorchid\":\"#ba55d3\",\"coral2\":\"#ee6a50\",\"brown4\":\"#8b2323\",\n",
    "          \"orangered4\":\"#8b2500\",\"darkorange2\":\"#ee7600\",\"lightpink4:\":\"#8b5f65\",\"lightsteelblue1\":\"#cae1ff\",\n",
    "          \"bisque4\":\"#8b7d6b\",\"lightsteelblue\":\"#b0c4de\",\"plum1\":\"#ffbbff\",\"palevioletred3\":\"#cd6889\",\"thistle2\":\"#eed2ee\",\n",
    "          \"coral1\":\"#ff7256\",\"lavenderblush3\":\"#cdc1c5\",\"mediumpurple3\":\"#8968cd\",\"skyblue2\":\"#7ec0ee\",\"darkseagreen4\":\"#698b69\",\n",
    "          \"blue2\":\"#0000ee\",\"salmon2\":\"#ee8262\",\"plum2\":\"#eeaeee\",\"ivory\":\"#fffff0\",\"navajowhite1\":\"#ffdead\",\"yellow4\":\"#8b8b00\",\n",
    "          \"lightpink3\":\"#cd8c95\",\"palevioletred2\":\"#ee799f\",\"lightpink4\":\"#8b5f65\",\"floralwhite\":\"#fffaf0\",\"lightcyan1\":\"#e0ffff\",\n",
    "          \"firebrick4\":\"#8b1a1a\",\"lightcoral\":\"#f08080\",\"brown2\":\"#ee3b3b\",\"plum3\":\"#cd96cd\",\"honeydew1\":\"#f0fff0\",\n",
    "           \"orangered3\":\"#cd3700\",\"magenta4\":\"#8b008b\",\"darkslateblue\":\"#483d8b\",\"navajowhite2\":\"#eecfa1\",\"thistle1\":\"#ffe1ff\",\n",
    "          \"darkolivegreen4\":\"#6e8b3d\",\"thistle3\":\"#cdb5cd\",\"antiquewhite4\":\"#8b8378\",\"mediumpurple2\":\"#9f79ee\",\"darkviolet\":\"#9400d3\",\n",
    "          \"maroon\":\"#b03060\",\"plum\":\"#dda0dd\",\"honeydew\":\"#f0fff0\",\"salmon4\":\"#8b4c39\"}"
   ]
  },
  {
   "cell_type": "code",
   "execution_count": null,
   "id": "ab4b331a-b4df-4cc8-8764-34f93ea25285",
   "metadata": {},
   "outputs": [],
   "source": [
    "selected_kds=[\"PWY-7446: sulfoglycolysis|g__Citrobacter.s__Citrobacter_farmeri_meta\",\n",
    "              \"PWY-3841: folate transformations II|g__Enterococcus.s__Enterococcus_casseliflavus_meta\",\n",
    "             \"DTDPRHAMSYN-PWY: dTDP-L-rhamnose biosynthesis I|g__Ruthenibacterium.s__Ruthenibacterium_lactatiformans_meta\",\n",
    "             \"PWY-6703: preQ0 biosynthesis|unclassified_meta\",\n",
    "             \"PWY-6609: adenine and adenosine salvage III|g__Ruthenibacterium.s__Ruthenibacterium_lactatiformans_meta\",\n",
    "             \"PWY-6609: adenine and adenosine salvage III|g__Anaerostipes.s__Anaerostipes_caccae_meta\",\n",
    "             \"PWY-6609: adenine and adenosine salvage III|unclassified_meta\",\n",
    "             \"VALSYN-PWY: L-valine biosynthesis|g__Citrobacter.s__Citrobacter_portucalensis_meta\",\n",
    "             \"VALSYN-PWY: L-valine biosynthesis|g__Ruthenibacterium.s__Ruthenibacterium_lactatiformans_meta\",\n",
    "             \"VALSYN-PWY: L-valine biosynthesis|g__Citrobacter.s__Citrobacter_portucalensis_meta\",\n",
    "             \"VALSYN-PWY: L-valine biosynthesis|unclassified_meta\"]"
   ]
  },
  {
   "cell_type": "code",
   "execution_count": null,
   "id": "e8c043c3-797c-4b46-ab16-9a3ae9b10e32",
   "metadata": {},
   "outputs": [],
   "source": [
    "kds[\"NODE\"].value_counts().to_frame().to_csv(\"kds.count.txt\",sep=\"\\t\")"
   ]
  },
  {
   "cell_type": "code",
   "execution_count": null,
   "id": "4ac78e0f-b3e6-4786-a642-4e7c0fc564af",
   "metadata": {},
   "outputs": [],
   "source": [
    "modulepath={\"feces\":\"wgcna/modules_metabolomics/modules/\",\n",
    "           \"meta\":\"wgcna/modules_metagenome/\"}"
   ]
  },
  {
   "cell_type": "code",
   "execution_count": null,
   "id": "eb811e09-504b-496b-a1ba-b1960160fa9d",
   "metadata": {},
   "outputs": [],
   "source": [
    "for tissue in modulepath.keys():\n",
    "    mp=modulepath[tissue]\n",
    "    module_files=glob.glob(mp+\"/*.txt\")\n",
    "    for mf in module_files:\n",
    "        md=os.path.basename(mf).replace(\".txt\",\"\").replace(\".new\",\"\")\n",
    "        with open(mf,\"r\") as f:\n",
    "            for line in f:\n",
    "                if(tissue ==\"meta\"):\n",
    "                    if(not ((node2module['MODULE'] == md+\"_\"+tissue) & (node2module['NODE'] == line.strip())).any()):\n",
    "                        node2module=node2module.append({\"MODULE\":md+\"_\"+tissue,\"NODE\":line.strip()},ignore_index = True)\n",
    "                    #node2module[line.strip()]=md+\"_\"+tissue\n",
    "                else:\n",
    "                    if(not ((node2module['MODULE'] == md+\"_\"+tissue) & (node2module['NODE'] == line.strip()+\"_\"+tissue)).any()):\n",
    "                        node2module=node2module.append({\"MODULE\":md+\"_\"+tissue,\"NODE\":line.strip()+\"_\"+tissue},ignore_index = True)\n",
    "                    #node2module[line.strip()+\"_\"+tissue]=md+\"_\"+tissue"
   ]
  },
  {
   "cell_type": "code",
   "execution_count": null,
   "id": "0c012471-953d-48e8-9bea-ed34358297eb",
   "metadata": {},
   "outputs": [],
   "source": [
    "deg_feces=pd.read_csv(\"DEGs/deg_feces.txt\",sep=\"\\t\")"
   ]
  },
  {
   "cell_type": "code",
   "execution_count": null,
   "id": "3e2e557d-db36-43f0-bba7-c8bc351b4d4b",
   "metadata": {},
   "outputs": [],
   "source": [
    "kds=kds.set_index(\"NODE\")\n",
    "node2module=node2module.reset_index()\n",
    "node2module=node2module.set_index(\"MODULE\")\n",
    "deg_feces=list(node2module.loc[\"DEG_feces\",\"NODE\"])\n",
    "node2module=node2module.reset_index()\n",
    "node2module=node2module.set_index(\"MODULE\")\n",
    "node2module=node2module.loc[list(set(node2module.index)-set([\"DEG_feces\"])),:]\n",
    "node2module=node2module.reset_index()\n",
    "node2module=node2module.set_index(\"NODE\")\n",
    "nodes[\"DEGS\"]=\"\"\n",
    "nodes=nodes.set_index(\"NODE\")"
   ]
  },
  {
   "cell_type": "code",
   "execution_count": null,
   "id": "fd25f630-9fd1-416d-9b1b-8debc325c3a6",
   "metadata": {},
   "outputs": [],
   "source": [
    "module4kd_count={}\n",
    "for kd in selected_kds:\n",
    "    modules4kd=set(list(kds.loc[kd,\"MODULE\"])+[node2module.loc[kd.replace(\"_meta\",\"\"),\"MODULE\"]])\n",
    "    for md in modules4kd:\n",
    "        module4kd_count[md+\"_\"+kd]=0"
   ]
  },
  {
   "cell_type": "code",
   "execution_count": null,
   "id": "2e104c40-2061-4d0b-a6a2-26be2eab9304",
   "metadata": {},
   "outputs": [],
   "source": [
    "kd_list=[]\n",
    "for kd in selected_kds:\n",
    "    if(kd in kds.index):\n",
    "#         modules4kd=set(list(kds.loc[kd,\"MODULE\"])+[node2module.loc[kd.replace(\"_meta\",\"\"),\"MODULE\"]])\n",
    "#         module4kd_count={}\n",
    "#         for md in modules4kd:\n",
    "#             module4kd_count[md]=0\n",
    "        subset=edges.loc[edges[\"HEAD\"]==kd,:]\n",
    "        kd_on_tail=False\n",
    "        if len(subset) ==0:\n",
    "            subset=edges.loc[edges[\"TAIL\"]==kd,:]\n",
    "            kd_on_tail=True\n",
    "        for i,row in subset.iterrows():\n",
    "            target=row[\"TAIL\"]\n",
    "            if(kd_on_tail):\n",
    "                target=row[\"HEAD\"]\n",
    "            node_module=node2module.loc[target.replace(\"_meta\",\"\"),\"MODULE\"]+\"_\"+kd\n",
    "            #if in deg list and module\n",
    "            if(node_module+\"_\"+kd in module4kd_count.keys()):\n",
    "                if(target in deg_feces):\n",
    "                        print(target)\n",
    "                        kd_list.append(row.to_frame().transpose())\n",
    "                        module4kd_count[node_module]=module4kd_count[node_module]+1\n",
    "                        nodes.loc[target,\"DEGS\"]=\"T\"\n",
    "\n",
    "        #count module number\n",
    "        for i,row in subset.iterrows():\n",
    "            target=row[\"TAIL\"]\n",
    "            if(kd_on_tail):\n",
    "                target=row[\"HEAD\"]\n",
    "            node_module=node2module.loc[target.replace(\"_meta\",\"\"),\"MODULE\"]+\"_\"+kd\n",
    "            #if in deg list and module\n",
    "            if(node_module in module4kd_count.keys()):\n",
    "                if module4kd_count[node_module] < 5:\n",
    "                    kd_list.append(row.to_frame().transpose())\n",
    "                    module4kd_count[node_module]=module4kd_count[node_module]+1"
   ]
  },
  {
   "cell_type": "code",
   "execution_count": null,
   "id": "91be8ecc-77e8-47ea-926b-b358bb71b9e2",
   "metadata": {},
   "outputs": [],
   "source": [
    "selected_edge=pd.concat(kd_list).reset_index(drop=True).drop_duplicates()\n"
   ]
  },
  {
   "cell_type": "code",
   "execution_count": null,
   "id": "db8a00ce-f993-4ec9-a0a5-ae5423260de7",
   "metadata": {},
   "outputs": [],
   "source": [
    "new_edge_list=[]\n",
    "for i, row in edges.iterrows():\n",
    "    splitbarhead=row[\"HEAD\"].split(\"|\")\n",
    "    splitbartail=row[\"TAIL\"].split(\"|\")\n",
    "    if(len(splitbarhead) >1 or len(splitbartail)>1):\n",
    "        if splitbarhead[0] in selected_kds or splitbartail[0] in selected_kds:\n",
    "            new_edge_list.append(row.to_frame().transpose())\n",
    "    else:\n",
    "        if row[\"HEAD\"] in selected_kds or row[\"TAIL\"] in selected_kds:\n",
    "            new_edge_list.append(row.to_frame().transpose())nodes.to_csv(\"newnode.txt\",sep=\"\\t\",index=False)\n",
    "newedges=pd.concat(new_edge_list).reset_index(drop=True).drop(columns=['COLOR', 'MODULE']).drop_duplicates()"
   ]
  },
  {
   "cell_type": "code",
   "execution_count": null,
   "id": "d67b4a31-4296-4c2e-8912-41db2169cce4",
   "metadata": {},
   "outputs": [],
   "source": [
    "#newedges=pd.concat(new_edge_list).reset_index(drop=True)\n",
    "selected_edge.to_csv(\"selected_edge.txt\",sep=\"\\t\",index=False)\n",
    "nodes.to_csv(\"newnodes.txt\",sep=\"\\t\",index=False)\n",
    "#kds.to_csv(\"kds.txt\",sep=\"\\t\",index=False)"
   ]
  }
 ],
 "metadata": {
  "kernelspec": {
   "display_name": "Python 3 (ipykernel)",
   "language": "python",
   "name": "python3"
  },
  "language_info": {
   "codemirror_mode": {
    "name": "ipython",
    "version": 3
   },
   "file_extension": ".py",
   "mimetype": "text/x-python",
   "name": "python",
   "nbconvert_exporter": "python",
   "pygments_lexer": "ipython3",
   "version": "3.9.12"
  },
  "varInspector": {
   "cols": {
    "lenName": 16,
    "lenType": 16,
    "lenVar": 40
   },
   "kernels_config": {
    "python": {
     "delete_cmd_postfix": "",
     "delete_cmd_prefix": "del ",
     "library": "var_list.py",
     "varRefreshCmd": "print(var_dic_list())"
    },
    "r": {
     "delete_cmd_postfix": ") ",
     "delete_cmd_prefix": "rm(",
     "library": "var_list.r",
     "varRefreshCmd": "cat(var_dic_list()) "
    }
   },
   "types_to_exclude": [
    "module",
    "function",
    "builtin_function_or_method",
    "instance",
    "_Feature"
   ],
   "window_display": false
  }
 },
 "nbformat": 4,
 "nbformat_minor": 5
}
