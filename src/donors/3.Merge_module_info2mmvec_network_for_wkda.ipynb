{
 "cells": [
  {
   "cell_type": "code",
   "execution_count": 9,
   "id": "e91b3f51",
   "metadata": {},
   "outputs": [],
   "source": [
    "import os\n",
    "import pandas as pd\n",
    "import numpy as np\n",
    "import glob\n",
    "os.chdir(\"../../data/donors/\")"
   ]
  },
  {
   "cell_type": "code",
   "execution_count": 10,
   "id": "5b4eb23d",
   "metadata": {
    "scrolled": true
   },
   "outputs": [],
   "source": [
    "edge=pd.read_csv(\"edge_taxa500.tsv\",sep=\"\\t\")"
   ]
  },
  {
   "cell_type": "code",
   "execution_count": 11,
   "id": "c80f4780",
   "metadata": {},
   "outputs": [],
   "source": [
    "def loadmodule(module_filelist,modules,type_):\n",
    "    for mf in module_filelist:\n",
    "        module=os.path.basename(mf).replace(\".new.txt\",\"\").replace(\".txt\",\"\")\n",
    "        #modules[module]\n",
    "        with open(mf,\"r\") as f:\n",
    "            for gene in f:\n",
    "                modules[gene.strip()]=module+\"_\"+type_\n",
    "    return modules\n",
    "\n",
    "metab_feces_module_files=glob.glob(\"metabolomics/modules_metabolomics_wgcna_min5/modules/*.txt\")"
   ]
  },
  {
   "cell_type": "code",
   "execution_count": 12,
   "id": "2a8071e2",
   "metadata": {},
   "outputs": [],
   "source": [
    "#we are considering metagenome function as module\n",
    "def loadmetagenomeasmodule(modules):\n",
    "    metagenome=pd.read_csv(\"metagenome.tsv\",sep=\"\\t\",index_col=0).index\n",
    "    for pwy in metagenome:\n",
    "        if \"UNINTEGRATED\" not in pwy and \"unclassified\" not in pwy:\n",
    "            pwy = pwy.split(\"|\")\n",
    "            if len(pwy) == 2:\n",
    "                #genus for future use\n",
    "                genus=pwy[1].split(\".\")[0]\n",
    "                species=pwy[1].split(\".\")[1]\n",
    "                pwy=pwy[0]\n",
    "                modules[species]=pwy\n",
    "    return modules\n",
    "                "
   ]
  },
  {
   "cell_type": "code",
   "execution_count": 18,
   "id": "58743d80",
   "metadata": {},
   "outputs": [],
   "source": [
    "modules={}\n",
    "modules=loadmodule(metab_fees_module_files,modules,\"feces\")\n",
    "modules=loadmetagenomeasmodule(modules)\n",
    "node2modulecolor={}\n",
    "for index, row in edge_colon.iterrows():\n",
    "    head=row[\"HEAD\"]\n",
    "    tail=row[\"TAIL\"]\n",
    "    if head not in node2modulecolor.keys() and head in modules.keys():\n",
    "        node2modulecolor[head]=modules[head]\n",
    "    if tail not in node2modulecolor.keys() and tail in modules.keys():\n",
    "        node2modulecolor[tail]=modules[tail]\n",
    "            \n",
    "with open(\"node_fx500_merge.tsv\",\"w\") as fw:\n",
    "    fw.write(\"MODULE\\tNODE\\n\")\n",
    "    for key in node2modulecolor.keys():\n",
    "        fw.write(node2modulecolor[key]+\"\\t\"+key+\"\\n\")\n",
    "    "
   ]
  }
 ],
 "metadata": {
  "kernelspec": {
   "display_name": "Python 3 (ipykernel)",
   "language": "python",
   "name": "python3"
  },
  "language_info": {
   "codemirror_mode": {
    "name": "ipython",
    "version": 3
   },
   "file_extension": ".py",
   "mimetype": "text/x-python",
   "name": "python",
   "nbconvert_exporter": "python",
   "pygments_lexer": "ipython3",
   "version": "3.10.9"
  },
  "varInspector": {
   "cols": {
    "lenName": 16,
    "lenType": 16,
    "lenVar": 40
   },
   "kernels_config": {
    "python": {
     "delete_cmd_postfix": "",
     "delete_cmd_prefix": "del ",
     "library": "var_list.py",
     "varRefreshCmd": "print(var_dic_list())"
    },
    "r": {
     "delete_cmd_postfix": ") ",
     "delete_cmd_prefix": "rm(",
     "library": "var_list.r",
     "varRefreshCmd": "cat(var_dic_list()) "
    }
   },
   "types_to_exclude": [
    "module",
    "function",
    "builtin_function_or_method",
    "instance",
    "_Feature"
   ],
   "window_display": false
  }
 },
 "nbformat": 4,
 "nbformat_minor": 5
}
