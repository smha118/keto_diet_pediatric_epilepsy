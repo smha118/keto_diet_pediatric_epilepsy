{
 "cells": [
  {
   "cell_type": "code",
   "execution_count": 1,
   "id": "f0758d75",
   "metadata": {},
   "outputs": [],
   "source": [
    "import os\n",
    "import glob\n",
    "import pandas as pd\n",
    "import random\n",
    "os.chdir(\"../../data/donors/\")"
   ]
  },
  {
   "cell_type": "code",
   "execution_count": 2,
   "id": "9503e42d",
   "metadata": {},
   "outputs": [],
   "source": [
    "wkdapath=\"wkda/*\"\n",
    "modulecolorpath=\"node500_merge.tsv\"\n",
    "nodepath=\"node_taxa500.tsv\"\n",
    "outpath=\"node_taxa500_new.tsv\""
   ]
  },
  {
   "cell_type": "code",
   "execution_count": 3,
   "id": "761ff91f",
   "metadata": {},
   "outputs": [],
   "source": [
    "def changeurl(kd_module):\n",
    "    kds_numb=kd_module.split(\",\")\n",
    "    kds_color=kd_module.split(\",\")\n",
    "    for i in range(len(kds_numb)):\n",
    "        kds_numb[i]=\"1\"\n",
    "    \n",
    "    for i in range(len(kds_color)):\n",
    "        color=kds_color[i].split(\"_\")[0]\n",
    "        try:\n",
    "            kds_color[i]=color2hex[color].replace(\"#\",\"\")\n",
    "        except KeyError:\n",
    "            kds_color[i]=color2hex[\"gray\"].replace(\"#\",\"\")\n",
    "    baseurl=\"https://chart.apis.google.com/chart?cht=p&chs=50x50&chf=bg,s,00000000&chd=t:%s&chco=%s\" %(\",\".join(kds_numb),\"|\".join(kds_color))\n",
    "    return (baseurl)\n",
    "\n",
    "\n",
    "color2hex={\"green\":\"#00FF00\",\"grey\":\"#808080\",\"turquoise\":\"#30D5C8\",\n",
    "          \"blue\":\"#007bff\",\"yellow\":\"#FFFF00\",\"brown\":\"#964B00\",\"darkgreen\":\"#013220\",\"violet\":\"#8F00FF\",\n",
    "          \"pink\":\"#FFC0CB\",\"midnightblue\":\"#191970\",\"orange\":\"#FFA500\",\"black\":\"#000000\",\"saddlebrown\":\"#8b4513\",\n",
    "          \"paleturquoise\":\"#afeeee\",\"lightcyan\":\"#e0ffff\",\"yellowgreen\":\"#9ACD32\",\"salmon\":\"#FA8072\",\"white\":\"#FFFFFF\",\n",
    "          \"skyblue\":\"#87CEEB\",\"greenyellow\":\"#adff2f\",\"magenta\":\"#FF00FF\",\"darkmagenta\":\"#8b008b\",\"tan\":\"#D2B48C\",\n",
    "          \"sienna3\":\"#cd6839\",\"grey60\":\"#999999\",\"darkorange\":\"#ff8c00\",\"lightyellow\":\"#ffffe0\",\"darkturquoise\":\"#00ced1\",\n",
    "          \"lightgreen\":\"#90ee90\",\"red\":\"#ff0000\",\"purple\":\"#a020f0\",\"royalblue\":\"#4169e1\",\"steelblue\":\"#4682b4\",\n",
    "          \"darkgrey\":\"#a9a9a9\",\"gray\":\"#808080\",\"skyblue3\":\"#6ca6cd\",\"darkred\":\"#8b0000\",\"darkolivegreen\":\"#556b2f\",\n",
    "          \"paleturquoise\":\"#afeeee\",\"cyan\":\"#00ffff\",\"mediumorchid\":\"#ba55d3\",\"coral2\":\"#ee6a50\",\"brown4\":\"#8b2323\",\n",
    "          \"orangered4\":\"#8b2500\",\"darkorange2\":\"#ee7600\",\"lightpink4:\":\"#8b5f65\",\"lightsteelblue1\":\"#cae1ff\",\n",
    "          \"bisque4\":\"#8b7d6b\",\"lightsteelblue\":\"#b0c4de\",\"plum1\":\"#ffbbff\",\"palevioletred3\":\"#cd6889\",\"thistle2\":\"#eed2ee\",\n",
    "          \"coral1\":\"#ff7256\",\"lavenderblush3\":\"#cdc1c5\",\"mediumpurple3\":\"#8968cd\",\"skyblue2\":\"#7ec0ee\"}"
   ]
  },
  {
   "cell_type": "code",
   "execution_count": null,
   "id": "26b17d35",
   "metadata": {},
   "outputs": [],
   "source": [
    "for wkda_file in glob.glob(wkdapath):\n",
    "    print(wkda_file)\n",
    "    if(\"cytoscape_module_color_mapping.txt\" in wkda_file):\n",
    "        wkda_moudule_color=wkda_file\n",
    "    elif(\"cytoscape_nodes.txt\" in wkda_file):\n",
    "        wdka_nodes=wkda_file\n",
    "    elif(\"wKDA_kd_full_results.txt\" in wkda_file):\n",
    "        wdka_kd_full=wkda_file\n",
    "module_color_mapping=pd.read_csv(wkda_moudule_color,sep=\"\\t\",index_col=0)\n",
    "new_color=[]\n",
    "for index,row in module_color_mapping.iterrows():\n",
    "    module=row[\"MODULES\"].split(\"_\")[0]\n",
    "    if module in color2hex.keys():\n",
    "        new_color.append(color2hex[module])\n",
    "    else:\n",
    "        color=\"#cfcfcf\"\n",
    "        new_color.append(color)\n",
    "        color2hex[module]=color\n",
    "module_color_mapping.loc[:,\"NEW_COLOR\"]=new_color\n",
    "module_color_mapping.to_csv(wkda_moudule_color,sep=\"\\t\")  "
   ]
  },
  {
   "cell_type": "code",
   "execution_count": null,
   "id": "9402f77e",
   "metadata": {},
   "outputs": [],
   "source": [
    "#cytoscape node file from Mergeomics result\n",
    "kd_nodes=pd.read_csv(wdka_nodes,sep=\"\\t\")\n",
    "#node with WGNCA module color information\n",
    "module_colors=pd.read_csv(modulecolorpath,sep=\"\\t\",index_col=1)\n",
    "#Original node file \n",
    "nodes=pd.read_csv(nodepath,sep=\"\\t\")\n",
    "#read keydriver full result file from Mergeomics result\n",
    "kds=pd.read_csv(wdka_kd_full,sep=\"\\t\")\n",
    "\n",
    "\n",
    "#Add new column to original node file; Mergeomics' result will be integrated here\n",
    "nodes[\"URL\"]=\"\"\n",
    "nodes[\"MODULE\"]=\"\"\n",
    "nodes[\"KD_MODULE\"]=\"\""
   ]
  },
  {
   "cell_type": "code",
   "execution_count": 6,
   "id": "cfde23f9",
   "metadata": {},
   "outputs": [],
   "source": [
    "for index, row in nodes.iterrows():\n",
    "    try:\n",
    "        #column #7 is module \n",
    "        #second column will be COLOR\n",
    "        module=module_colors.loc[row[\"NODE\"]][\"MODULE\"]\n",
    "        nodes.iloc[index,7]=module_colors.loc[row[\"NODE\"]][\"MODULE\"]\n",
    "        module_color=module.split(\"_\")[0]\n",
    "\n",
    "        nodes.iloc[index,2]=color2hex[module_color]\n",
    "    except KeyError:\n",
    "        nodes.iloc[index,7]=\"gray\"\n",
    "        nodes.iloc[index,2]=color2hex[\"gray\"]        "
   ]
  },
  {
   "cell_type": "code",
   "execution_count": 7,
   "id": "53af572d",
   "metadata": {},
   "outputs": [],
   "source": [
    "kd=kd_nodes[kd_nodes[\"SHAPE\"]==\"Diamond\"]\n",
    "kd=kd.set_index(\"NODE\")\n",
    "\n",
    "#Integrate information from wKDA_cytoscape_nodes.txt file\n",
    "for index, row in nodes.iterrows():\n",
    "    try:\n",
    "        node=row[\"NODE\"]\n",
    "        shape=kd.loc[node][\"SHAPE\"]\n",
    "        kd_module=kd.loc[node][\"KD_MODULE\"]\n",
    "        url=changeurl(kd_module)\n",
    "        nodes.iloc[index,6]=url\n",
    "        nodes.iloc[index,4]=shape\n",
    "        nodes.iloc[index,8]=kd_module\n",
    "    except:\n",
    "        continue\n",
    "        \n",
    "#Integrate information from wKDA_kd_full_results.txt\n",
    "key_drivers={}\n",
    "for index,row in kds.iterrows():\n",
    "    key=row[\"NODE\"]\n",
    "    if key not in key_drivers.keys():\n",
    "        key_drivers[key]=[]\n",
    "    key_drivers[key].append(row[\"MODULE\"])\n",
    "        \n",
    "\n",
    "for index, row in nodes.iterrows():\n",
    "    try:\n",
    "        node=row[\"NODE\"]\n",
    "        shape=\"ellipse\"\n",
    "        url=\"\"\n",
    "        if node in key_drivers.keys():\n",
    "            shape=\"diamond\"\n",
    "            url=changeurl(\",\".join(key_drivers[node]))\n",
    "        \n",
    "        nodes.iloc[index,6]=url\n",
    "        nodes.iloc[index,4]=shape\n",
    "#         nodes.iloc[index,8]=kd.loc[node][\"KD_MODULE\"]\n",
    "        nodes.iloc[index,8]=\",\".join(key_drivers[node])\n",
    "    except:\n",
    "        continue"
   ]
  },
  {
   "cell_type": "code",
   "execution_count": 8,
   "id": "aebec2ef",
   "metadata": {},
   "outputs": [],
   "source": [
    "nodes.to_csv(outpath,sep=\"\\t\",index=False)"
   ]
  }
 ],
 "metadata": {
  "kernelspec": {
   "display_name": "Python 3 (ipykernel)",
   "language": "python",
   "name": "python3"
  },
  "language_info": {
   "codemirror_mode": {
    "name": "ipython",
    "version": 3
   },
   "file_extension": ".py",
   "mimetype": "text/x-python",
   "name": "python",
   "nbconvert_exporter": "python",
   "pygments_lexer": "ipython3",
   "version": "3.10.9"
  },
  "varInspector": {
   "cols": {
    "lenName": 16,
    "lenType": 16,
    "lenVar": 40
   },
   "kernels_config": {
    "python": {
     "delete_cmd_postfix": "",
     "delete_cmd_prefix": "del ",
     "library": "var_list.py",
     "varRefreshCmd": "print(var_dic_list())"
    },
    "r": {
     "delete_cmd_postfix": ") ",
     "delete_cmd_prefix": "rm(",
     "library": "var_list.r",
     "varRefreshCmd": "cat(var_dic_list()) "
    }
   },
   "position": {
    "height": "553.808px",
    "left": "2038.46px",
    "right": "20px",
    "top": "143.975px",
    "width": "674.977px"
   },
   "types_to_exclude": [
    "module",
    "function",
    "builtin_function_or_method",
    "instance",
    "_Feature"
   ],
   "window_display": true
  }
 },
 "nbformat": 4,
 "nbformat_minor": 5
}
