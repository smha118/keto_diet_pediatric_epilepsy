{
 "cells": [
  {
   "cell_type": "code",
   "execution_count": 43,
   "metadata": {},
   "outputs": [],
   "source": [
    "import pandas as pd\n",
    "import numpy as np\n",
    "from skbio.stats.composition import clr_inv as softmax\n",
    "import warnings\n",
    "warnings.filterwarnings(\"ignore\")"
   ]
  },
  {
   "cell_type": "markdown",
   "metadata": {},
   "source": [
    "# Donors"
   ]
  },
  {
   "cell_type": "code",
   "execution_count": 44,
   "metadata": {
    "scrolled": true
   },
   "outputs": [],
   "source": [
    "ranks_metafeces = pd.read_table('../../data/donors/meta_metab/latent_dim_3_input_prior_1.00_output_prior_1.00_beta1_0.90_beta2_0.95_ranks.txt')\n",
    "metagenome=pd.read_table(\"../../data/donors/metagenome.tsv\",sep=\"\\t\",index_col=0)\n",
    "df_metafeces = pd.melt(ranks_metafeces, id_vars='featureid', value_vars=ranks_metafeces.columns,ignore_index=True)\n",
    "df_metafeces.columns=[\"HEAD\",\"TAIL\",\"WEIGHT\"]\n",
    "k=1000\n",
    "df_metafeces = df_metafeces.sort_values('WEIGHT', ascending=False).iloc[:k]"
   ]
  },
  {
   "cell_type": "code",
   "execution_count": 45,
   "metadata": {},
   "outputs": [],
   "source": [
    "def trimMetagenome(meta_list):\n",
    "    new_meta=list()\n",
    "    for m in meta_list:\n",
    "        new_meta.append(m.split(\":\")[0])\n",
    "    return new_meta"
   ]
  },
  {
   "cell_type": "code",
   "execution_count": 46,
   "metadata": {},
   "outputs": [],
   "source": [
    "def createnode(df,color=[\"feces\",\"metagenome\"]):\n",
    "    color2shape={\n",
    "            \"metagenome\":\"ellipse\",\n",
    "            \"feces\":\"ellipse\"\n",
    "    }\n",
    "\n",
    "    node=pd.DataFrame(columns=['NODE','LABEL','COLOR','SIZE','SHAPE','DESC'])\n",
    "    for i in df[\"HEAD\"]:\n",
    "        node=node.append({\n",
    "            'NODE':i,\n",
    "            'LABEL':i,\n",
    "            'COLOR':color[0],\n",
    "            'SIZE':'20',\n",
    "            'SHAPE':color2shape[color[0]], \n",
    "            'DESC': ''\n",
    "        },ignore_index=True)\n",
    "\n",
    "    for j in df[\"TAIL\"]:\n",
    "        split=j.split(\":\")\n",
    "        if(len(split)>1 and color[1]==\"metagenome\"):\n",
    "            node=node.append({\n",
    "                'NODE':j.split(\":\")[0],\n",
    "                'LABEL':j.split(\":\")[0],\n",
    "                'COLOR':color[1],\n",
    "                'SIZE':'20',\n",
    "                'SHAPE':color2shape[color[1]],\n",
    "                #'DESC': j\n",
    "                'DESC': j.split(\":\")[1]\n",
    "            },ignore_index=True)\n",
    "        else:\n",
    "            node=node.append({\n",
    "                'NODE':j,\n",
    "                'LABEL':j,\n",
    "                'COLOR':color[1],\n",
    "                'SIZE':'20',\n",
    "                'SHAPE':color2shape[color[1]],\n",
    "                'DESC':''\n",
    "            },ignore_index=True)\n",
    "    \n",
    "    return node"
   ]
  },
  {
   "cell_type": "code",
   "execution_count": 47,
   "metadata": {},
   "outputs": [],
   "source": [
    "node_metafeces=createnode(df_metafeces,color=[\"feces\",\"metagenome\"])"
   ]
  },
  {
   "cell_type": "code",
   "execution_count": 48,
   "metadata": {},
   "outputs": [],
   "source": [
    "metagenomefeces_pwy=set()\n",
    "for index, row in node_metafeces[node_metafeces[\"COLOR\"]==\"metagenome\"].iterrows():\n",
    "    metagenomefeces_pwy.add(row[\"NODE\"])"
   ]
  },
  {
   "cell_type": "code",
   "execution_count": 49,
   "metadata": {},
   "outputs": [],
   "source": [
    "df_metafeces_taxa=pd.DataFrame(columns=[\"HEAD\",\"TAIL\",\"WEIGHT\"])\n",
    "node_metafeces_taxa=pd.DataFrame(columns=[\"NODE\",\"LABEL\",\"COLOR\",\"SIZE\",\"SHAPE\",\"DESC\"])"
   ]
  },
  {
   "cell_type": "code",
   "execution_count": 50,
   "metadata": {},
   "outputs": [],
   "source": [
    "#feces\n",
    "for m in metagenome.index:\n",
    "    if \"UNINTEGRATED\" not in m and \"unclassified\" not in m:\n",
    "        pwy=m.split(\":\")[0]\n",
    "        if pwy in metagenomefeces_pwy:\n",
    "            splitpipe=m.split(\"|\")\n",
    "            if len(splitpipe)==2:\n",
    "                species=splitpipe[1].split(\".\")[1]\n",
    "                row_edge={\"HEAD\":pwy,\"TAIL\":species,\"WEIGHT\":1}\n",
    "                row_node={\"NODE\":species,\"LABEL\":species,\"COLOR\":\"taxa\",\"SIZE\":20,\"SHAPE\":\"ellipse\",\"DESC\":\"\"}\n",
    "                df_metafeces_taxa=df_metafeces_taxa.append(row_edge,ignore_index=True)\n",
    "                node_metafeces_taxa=node_metafeces_taxa.append(row_node,ignore_index=True)"
   ]
  },
  {
   "cell_type": "code",
   "execution_count": 51,
   "metadata": {},
   "outputs": [],
   "source": [
    "df_metafeces[\"TAIL\"]=trimMetagenome(df_metafeces[\"TAIL\"])"
   ]
  },
  {
   "cell_type": "code",
   "execution_count": 52,
   "metadata": {},
   "outputs": [],
   "source": [
    "edge=pd.concat([df_metafeces]).drop_duplicates()\n",
    "node=pd.concat([node_metafeces]).drop_duplicates()"
   ]
  },
  {
   "cell_type": "code",
   "execution_count": 53,
   "metadata": {},
   "outputs": [],
   "source": [
    "edge.to_csv(\"../../donors/edge_taxa500.tsv\",sep=\"\\t\",index=False)\n",
    "node.to_csv(\"../../donors/node_taxa500.tsv\",sep=\"\\t\",index=False)"
   ]
  },
  {
   "cell_type": "code",
   "execution_count": 45,
   "metadata": {},
   "outputs": [],
   "source": [
    "# pathways=dict()\n",
    "# for i in list(metagenome.index):\n",
    "#     for j in tax_set:\n",
    "#         if j in i:\n",
    "#             key=i.split(\"|\")[0]\n",
    "#             if(key in pathways.keys()):\n",
    "#                 if(j not in pathways[key]):\n",
    "#                     pathways[key]=pathways[key]+\",\"+j\n",
    "#             else:\n",
    "#                 pathways[key]=j"
   ]
  },
  {
   "cell_type": "code",
   "execution_count": 50,
   "metadata": {},
   "outputs": [],
   "source": [
    "# donor_pathway=pd.DataFrame.from_dict(pathways,orient='index')\n",
    "# donor_pathway.to_csv(\"/home/smha118/data1/epilepsy/mmvec/donor/pathway.csv\")"
   ]
  }
 ],
 "metadata": {
  "kernelspec": {
   "display_name": "Python 3 (ipykernel)",
   "language": "python",
   "name": "python3"
  },
  "language_info": {
   "codemirror_mode": {
    "name": "ipython",
    "version": 3
   },
   "file_extension": ".py",
   "mimetype": "text/x-python",
   "name": "python",
   "nbconvert_exporter": "python",
   "pygments_lexer": "ipython3",
   "version": "3.10.9"
  },
  "varInspector": {
   "cols": {
    "lenName": 16,
    "lenType": 16,
    "lenVar": 40
   },
   "kernels_config": {
    "python": {
     "delete_cmd_postfix": "",
     "delete_cmd_prefix": "del ",
     "library": "var_list.py",
     "varRefreshCmd": "print(var_dic_list())"
    },
    "r": {
     "delete_cmd_postfix": ") ",
     "delete_cmd_prefix": "rm(",
     "library": "var_list.r",
     "varRefreshCmd": "cat(var_dic_list()) "
    }
   },
   "types_to_exclude": [
    "module",
    "function",
    "builtin_function_or_method",
    "instance",
    "_Feature"
   ],
   "window_display": false
  }
 },
 "nbformat": 4,
 "nbformat_minor": 4
}
