{
 "cells": [
  {
   "cell_type": "markdown",
   "id": "936240f1-b1d0-4952-8c35-545edf09729a",
   "metadata": {},
   "source": [
    "# Coded in R"
   ]
  },
  {
   "cell_type": "code",
   "execution_count": 1,
   "id": "aaac5acb",
   "metadata": {},
   "outputs": [],
   "source": [
    "library(WGCNA)\n",
    "library(dplyr)\n",
    "setwd(\"../../data/donors/wgcna/\")"
   ]
  },
  {
   "cell_type": "code",
   "execution_count": null,
   "id": "4a679c31-a343-497b-a509-df1e8928f82d",
   "metadata": {},
   "outputs": [],
   "source": [
    "getrows<-function(modules,path){\n",
    "    rows<-c()\n",
    "    for(i in modules){\n",
    "        module.file<-paste0(path,i,\".txt\")\n",
    "        module<-read.csv(module.file,header=F,sep=\"\\t\")\n",
    "        rows<-c(rows,module$V1)\n",
    "    }\n",
    "    return(rows)\n",
    "}\n",
    "add_data_type_to_mtx<-function(df,type){\n",
    "    idx=c()\n",
    "    for (i in rownames(df)){\n",
    "        idx=c(idx,paste0(i,\"_\",type))\n",
    "    }\n",
    "    rownames(df)<-idx\n",
    "    return(df)\n",
    "}\n",
    "#wKDA prep\n",
    "getmodulesrows<-function(modules,path,type){\n",
    "    module<-data.frame()\n",
    "    rows<-c()\n",
    "    df <- data.frame(matrix(ncol = 2, nrow = 0))\n",
    "    colnames(df) <- c('MODULE', 'NODE')\n",
    "    for(i in modules){\n",
    "        module.file<-paste0(path,i,\".txt\")\n",
    "        module<-read.csv(module.file,header=F,sep=\"\\t\")\n",
    "        colnames(module)<-c(\"NODE\")\n",
    "        module$MODULE=paste0(i,\"_\",type)\n",
    "        df<-rbind(df,module)\n",
    "    }\n",
    "    \n",
    "    return(df)\n",
    "}\n",
    "\n",
    "generate_nodes_for_mergeomics<-function(modules,path,type,addtype2node=F){\n",
    "    require(dplyr)\n",
    "    nodes <- data.frame(matrix(ncol = 2, nrow = 0))\n",
    "    colnames(nodes)<-c(\"MODULE\",\"NODE\")\n",
    "    #Make nodes file for mergeomics\n",
    "    for (i in modules){\n",
    "        module<-read.csv(paste0(path,i,\".txt\"),sep=\"\\t\",header=F)\n",
    "        colnames(module)<-\"NODE\"\n",
    "        module$MODULE<-i\n",
    "        module<-module%>%relocate(\"MODULE\")\n",
    "        nodes<-rbind(nodes,module)\n",
    "    }\n",
    "    for (i in 1:nrow(nodes)){\n",
    "        nodes[i,1]<-paste0(nodes[i,1],\"_\",type)\n",
    "        if(addtype2node){\n",
    "            nodes[i,2]<-paste0(nodes[i,2],\"_\",type)\n",
    "        }\n",
    "    }\n",
    "    return(nodes)\n",
    "}"
   ]
  },
  {
   "cell_type": "code",
   "execution_count": null,
   "id": "11ef616b-3242-4bbf-badc-b72c469a3329",
   "metadata": {},
   "outputs": [],
   "source": [
    "selected.modules<-read.csv(\"selected_modules.tsv\",sep=\"\\t\")"
   ]
  },
  {
   "cell_type": "code",
   "execution_count": null,
   "id": "6f3eadb4",
   "metadata": {},
   "outputs": [],
   "source": [
    "meta.modules<-selected.modules$metagenome\n",
    "feces.modules<-selected.modules$feces"
   ]
  },
  {
   "cell_type": "code",
   "execution_count": null,
   "id": "177bc296-4c51-423c-82ac-3d19ee6d81be",
   "metadata": {},
   "outputs": [],
   "source": [
    "data.meta<-read.csv(\"../raw_data/metagenome_new.txt\",sep=\"\\t\",row.names = 1)\n",
    "data.meta<-log(data.meta+1)\n",
    "data.feces<-read.csv(\"../raw_data/metabolomics.txt\",sep=\"\\t\",row.names=1)"
   ]
  },
  {
   "cell_type": "code",
   "execution_count": null,
   "id": "0e7cecad-0c0b-439c-b00e-944fdf157b3f",
   "metadata": {},
   "outputs": [],
   "source": [
    "row.meta<-getrows(meta.modules,\"modules/modules_metagenome/\")\n",
    "row.feces<-getrows(feces.modules,\"modules/modules_metabolomics/modules/\")"
   ]
  },
  {
   "cell_type": "code",
   "execution_count": null,
   "id": "bddfdb75-e83d-413b-ac72-1e394c79e4a9",
   "metadata": {},
   "outputs": [],
   "source": [
    "data.meta<-data.meta[row.meta,]\n",
    "data.feces<-data.feces[row.feces,]\n",
    "data.meta<-add_data_type_to_mtx(data.meta,\"meta\")\n",
    "data.feces<-add_data_type_to_mtx(data.feces,\"feces\")\n",
    "data<-rbind(data.meta,data.feces)\n",
    "write.table(data,file=\"combined.data.txt\",sep=\"\\t\",quote=F)"
   ]
  },
  {
   "cell_type": "code",
   "execution_count": null,
   "id": "95c128f0-c57d-4ed6-9603-f57ea6562f1e",
   "metadata": {},
   "outputs": [],
   "source": [
    "dam_metab<-read.csv(\"DAM_metabolite.txt\",sep=\"\\t\")\n",
    "dam_metab$NODE<-paste0(dam_metab$NODE,\"_feces\")\n",
    "dam_metab$MODULE<-\"DEG_feces\"\n",
    "dam_metab<-dam_metab[,c(2,1)]\n"
   ]
  },
  {
   "cell_type": "code",
   "execution_count": null,
   "id": "d77ea839-2303-46fc-9ca2-fe4d464873f2",
   "metadata": {},
   "outputs": [],
   "source": [
    "nodes.meta<-generate_nodes_for_mergeomics(meta.modules,\"modules/modules_metagenome/\",\"meta\")\n",
    "nodes.feces<-generate_nodes_for_mergeomics(feces.modules,\"modules/modules_metabolomics/modules/\",\"feces\",addtype2node=T)\n",
    "nodes<-rbind(nodes.meta,nodes.feces,dam_metab)\n",
    "write.table(nodes,\"Node4wKDA.txt\",sep=\"\\t\",row.name=F,quote=F)"
   ]
  }
 ],
 "metadata": {
  "kernelspec": {
   "display_name": "Python 3 (ipykernel)",
   "language": "python",
   "name": "python3"
  },
  "language_info": {
   "codemirror_mode": {
    "name": "ipython",
    "version": 3
   },
   "file_extension": ".py",
   "mimetype": "text/x-python",
   "name": "python",
   "nbconvert_exporter": "python",
   "pygments_lexer": "ipython3",
   "version": "3.9.12"
  }
 },
 "nbformat": 4,
 "nbformat_minor": 5
}
